{
  "nbformat": 4,
  "nbformat_minor": 0,
  "metadata": {
    "colab": {
      "name": "Pengenalan Tipe Data Dasar Python.ipynb",
      "provenance": [],
      "collapsed_sections": []
    },
    "kernelspec": {
      "name": "python3",
      "display_name": "Python 3"
    },
    "language_info": {
      "name": "python"
    }
  },
  "cells": [
    {
      "cell_type": "markdown",
      "source": [
        "**Pengenalan** **Tipe** **Data** **Dasar** **Python**"
      ],
      "metadata": {
        "id": "Z5A6BRKCkKly"
      }
    },
    {
      "cell_type": "markdown",
      "source": [
        "Python memiliki 3 (tiga) tipe data dasar, yaitu :\n",
        "1. Number\n",
        "2. String\n",
        "3. Boolean"
      ],
      "metadata": {
        "id": "1xXE3c1elB9a"
      }
    },
    {
      "cell_type": "markdown",
      "source": [
        "**Number** memiliki 3 tipe data bilangan yaitu :\n",
        "1. Integer\n",
        "2. Float\n",
        "3. Complex\n",
        "\n",
        "\n"
      ],
      "metadata": {
        "id": "yT77yUYZmDph"
      }
    },
    {
      "cell_type": "markdown",
      "source": [
        "**Integer** \n",
        "\n",
        "*   Integer menyatakan bilangan bulat\n",
        "*   Mengenal nilai positif dan negatif\n",
        "*   DIbatasi oleh besarnya memori yang tersedia\n",
        "\n",
        "\n",
        "\n",
        "\n"
      ],
      "metadata": {
        "id": "ZDLIGAw8mgky"
      }
    },
    {
      "cell_type": "code",
      "source": [
        "a = 8\n",
        "print(a)\n",
        "type(a)"
      ],
      "metadata": {
        "colab": {
          "base_uri": "https://localhost:8080/"
        },
        "id": "GxqhD0nporsM",
        "outputId": "6497d61f-f4cd-466b-9dcd-5f6e346c4adc"
      },
      "execution_count": null,
      "outputs": [
        {
          "output_type": "stream",
          "name": "stdout",
          "text": [
            "8\n"
          ]
        },
        {
          "output_type": "execute_result",
          "data": {
            "text/plain": [
              "int"
            ]
          },
          "metadata": {},
          "execution_count": 9
        }
      ]
    },
    {
      "cell_type": "code",
      "source": [
        "b =-999\n",
        "print(b)\n",
        "type(b)"
      ],
      "metadata": {
        "colab": {
          "base_uri": "https://localhost:8080/"
        },
        "id": "wv73xRNxptHM",
        "outputId": "abf6529c-319a-41b5-d10f-3bc0724ad5ed"
      },
      "execution_count": null,
      "outputs": [
        {
          "output_type": "stream",
          "name": "stdout",
          "text": [
            "-999\n"
          ]
        },
        {
          "output_type": "execute_result",
          "data": {
            "text/plain": [
              "int"
            ]
          },
          "metadata": {},
          "execution_count": 22
        }
      ]
    },
    {
      "cell_type": "code",
      "source": [
        "c= 12345678910111213141516\n",
        "print(c)\n",
        "type(c)"
      ],
      "metadata": {
        "colab": {
          "base_uri": "https://localhost:8080/"
        },
        "id": "X51bnt6un3RZ",
        "outputId": "b39d3728-0efd-437e-afae-23b40b74a7b1"
      },
      "execution_count": null,
      "outputs": [
        {
          "output_type": "stream",
          "name": "stdout",
          "text": [
            "12345678910111213141516\n"
          ]
        },
        {
          "output_type": "execute_result",
          "data": {
            "text/plain": [
              "int"
            ]
          },
          "metadata": {},
          "execution_count": 12
        }
      ]
    },
    {
      "cell_type": "markdown",
      "source": [
        "**Float**\n",
        "\n",
        "*   Dipergunakan untuk variabel yang memiliki nilai pecahan/desimal (bilangan real)\n",
        "Panjang dari data float  dibatasi mencapai 17 angka dibelakang koma\n",
        "*   Panjang dari data float  dibatasi mencapai 17 angka dibelakang koma\n",
        "*   Pemisah dari bilangan desimal menggunakan titik(.)\n",
        "\n",
        "\n"
      ],
      "metadata": {
        "id": "edex0cOQqWGW"
      }
    },
    {
      "cell_type": "code",
      "source": [
        "lebar = 5.5\n",
        "print(lebar)\n",
        "type(lebar)"
      ],
      "metadata": {
        "colab": {
          "base_uri": "https://localhost:8080/"
        },
        "id": "J20posudrJDj",
        "outputId": "80ead94a-5fc7-4789-f692-9292e8dcd104"
      },
      "execution_count": null,
      "outputs": [
        {
          "output_type": "stream",
          "name": "stdout",
          "text": [
            "5.5\n"
          ]
        },
        {
          "output_type": "execute_result",
          "data": {
            "text/plain": [
              "float"
            ]
          },
          "metadata": {},
          "execution_count": 15
        }
      ]
    },
    {
      "cell_type": "code",
      "source": [
        "IPK = 3.62\n",
        "print(IPK)\n",
        "type(IPK)"
      ],
      "metadata": {
        "colab": {
          "base_uri": "https://localhost:8080/"
        },
        "id": "NMbKkzOUsxqy",
        "outputId": "3917a266-fb36-478b-cefe-4ca0d8dc0b16"
      },
      "execution_count": null,
      "outputs": [
        {
          "output_type": "stream",
          "name": "stdout",
          "text": [
            "3.62\n"
          ]
        },
        {
          "output_type": "execute_result",
          "data": {
            "text/plain": [
              "float"
            ]
          },
          "metadata": {},
          "execution_count": 23
        }
      ]
    },
    {
      "cell_type": "code",
      "source": [
        "#hanya akan menampilkan 17 angka\n",
        "phi = 3.1459265358979323846264338327950288\n",
        "print(phi)\n",
        "type(phi)"
      ],
      "metadata": {
        "colab": {
          "base_uri": "https://localhost:8080/"
        },
        "id": "hZfAr2JbrVsq",
        "outputId": "eb57f22c-87d5-4261-f956-d7d4cce7b77f"
      },
      "execution_count": null,
      "outputs": [
        {
          "output_type": "stream",
          "name": "stdout",
          "text": [
            "3.1459265358979325\n"
          ]
        },
        {
          "output_type": "execute_result",
          "data": {
            "text/plain": [
              "float"
            ]
          },
          "metadata": {},
          "execution_count": 19
        }
      ]
    },
    {
      "cell_type": "markdown",
      "source": [
        "**Complex**\n",
        "\n",
        "\n",
        "*   Mempesentasikan nilai imajiner\n",
        "\n"
      ],
      "metadata": {
        "id": "grwLx5bBtG5B"
      }
    },
    {
      "cell_type": "code",
      "source": [
        "a = 3j\n",
        "print(a)\n",
        "type(a)"
      ],
      "metadata": {
        "colab": {
          "base_uri": "https://localhost:8080/"
        },
        "id": "rWKnFpAWvZJs",
        "outputId": "2c00bb90-2446-4441-a675-d85941648621"
      },
      "execution_count": null,
      "outputs": [
        {
          "output_type": "stream",
          "name": "stdout",
          "text": [
            "3j\n"
          ]
        },
        {
          "output_type": "execute_result",
          "data": {
            "text/plain": [
              "complex"
            ]
          },
          "metadata": {},
          "execution_count": 26
        }
      ]
    },
    {
      "cell_type": "code",
      "source": [
        "ab = 5+10j\n",
        "print(ab)\n",
        "type(ab)"
      ],
      "metadata": {
        "colab": {
          "base_uri": "https://localhost:8080/"
        },
        "id": "hxME7lBxvjUk",
        "outputId": "17fb95f3-2599-40be-d033-6071fe07b179"
      },
      "execution_count": null,
      "outputs": [
        {
          "output_type": "stream",
          "name": "stdout",
          "text": [
            "(5+10j)\n"
          ]
        },
        {
          "output_type": "execute_result",
          "data": {
            "text/plain": [
              "complex"
            ]
          },
          "metadata": {},
          "execution_count": 27
        }
      ]
    },
    {
      "cell_type": "code",
      "source": [
        "a = 3j\n",
        "b = 27j\n",
        "c = a + b\n",
        "print(a, '+',b, '=',c)\n",
        "type(c)\n"
      ],
      "metadata": {
        "colab": {
          "base_uri": "https://localhost:8080/"
        },
        "id": "q3F_7v0kuzPN",
        "outputId": "9849c3ef-d656-4480-8922-3b5bad5e4c16"
      },
      "execution_count": null,
      "outputs": [
        {
          "output_type": "stream",
          "name": "stdout",
          "text": [
            "3j + 27j = 30j\n"
          ]
        },
        {
          "output_type": "execute_result",
          "data": {
            "text/plain": [
              "complex"
            ]
          },
          "metadata": {},
          "execution_count": 29
        }
      ]
    },
    {
      "cell_type": "markdown",
      "source": [
        "**String**\n",
        "\n",
        "\n",
        "*   String berfungsi untuk menampilkan teks\n",
        "*   String adalah kumpulkan karakter\n",
        "*   Data String harus diapit oleh tanda kutip, baik kutip satu ('') maupun tanda kutip dua (\"\") setelah karakter sama dengan (=)\n",
        "\n",
        "\n",
        "\n"
      ],
      "metadata": {
        "id": "1x4BTWQ8v1UM"
      }
    },
    {
      "cell_type": "code",
      "source": [
        "#Contoh dengan kutip satu('')\n",
        "Studi ='Data Science Track'\n",
        "print(Studi)\n",
        "type(Studi)"
      ],
      "metadata": {
        "colab": {
          "base_uri": "https://localhost:8080/"
        },
        "id": "xOQaElRvw3yz",
        "outputId": "84549f2a-8abd-4a53-9745-325ed632fa98"
      },
      "execution_count": null,
      "outputs": [
        {
          "output_type": "stream",
          "name": "stdout",
          "text": [
            "Data Science Track\n"
          ]
        },
        {
          "output_type": "execute_result",
          "data": {
            "text/plain": [
              "str"
            ]
          },
          "metadata": {},
          "execution_count": 36
        }
      ]
    },
    {
      "cell_type": "code",
      "source": [
        "#Contoh dengan kutip dua (\"\")\n",
        "Studi = \"Data Science Track\"\n",
        "print(Studi)\n",
        "type(Studi)"
      ],
      "metadata": {
        "colab": {
          "base_uri": "https://localhost:8080/"
        },
        "id": "H2tdQXDVxAEr",
        "outputId": "4ae28804-7382-4a8c-831d-dcbc1b540abb"
      },
      "execution_count": null,
      "outputs": [
        {
          "output_type": "stream",
          "name": "stdout",
          "text": [
            "Data Science Track\n"
          ]
        },
        {
          "output_type": "execute_result",
          "data": {
            "text/plain": [
              "str"
            ]
          },
          "metadata": {},
          "execution_count": 37
        }
      ]
    },
    {
      "cell_type": "markdown",
      "source": [
        "\n",
        "\n",
        "*   String merupakan tipe data yang memiliki indeks\n",
        "*   Indeks dimulai dari 0 apabila dimulai dari depan\n",
        "*   Indeks dimulai dari -1 apabila dimulai dari belakang\n",
        "*   Tiap Karakater dapat diakses menggunakan indeks\n",
        "\n",
        "\n",
        "\n"
      ],
      "metadata": {
        "id": "zJMz8bG1DM2w"
      }
    },
    {
      "cell_type": "code",
      "source": [
        "kalimat = \"Studi Independen My Edu Solve\""
      ],
      "metadata": {
        "id": "rsPXn1QgyXEG"
      },
      "execution_count": null,
      "outputs": []
    },
    {
      "cell_type": "code",
      "source": [
        "#print string lengkap\n",
        "print(kalimat)"
      ],
      "metadata": {
        "colab": {
          "base_uri": "https://localhost:8080/"
        },
        "id": "lGDHtGVGytBo",
        "outputId": "31d353fd-de62-424a-972d-3d7d92d13d02"
      },
      "execution_count": null,
      "outputs": [
        {
          "output_type": "stream",
          "name": "stdout",
          "text": [
            "Studi Independen My Edu Solve\n"
          ]
        }
      ]
    },
    {
      "cell_type": "code",
      "source": [
        ""
      ],
      "metadata": {
        "id": "ZojeMvGzDgQM"
      },
      "execution_count": null,
      "outputs": []
    },
    {
      "cell_type": "code",
      "source": [
        "#print string karakter pertama\n",
        "print(kalimat[0])"
      ],
      "metadata": {
        "colab": {
          "base_uri": "https://localhost:8080/"
        },
        "id": "exCIflWryzG6",
        "outputId": "0c9b5d93-bb61-45e6-a698-7451bde367b7"
      },
      "execution_count": null,
      "outputs": [
        {
          "output_type": "stream",
          "name": "stdout",
          "text": [
            "S\n"
          ]
        }
      ]
    },
    {
      "cell_type": "code",
      "source": [
        "#print string karakter terakhir\n",
        "print(kalimat[-1])"
      ],
      "metadata": {
        "colab": {
          "base_uri": "https://localhost:8080/"
        },
        "id": "7n8WsrRcy8pr",
        "outputId": "a15cfd84-0b9b-4324-a3ed-1e629bc44f7d"
      },
      "execution_count": null,
      "outputs": [
        {
          "output_type": "stream",
          "name": "stdout",
          "text": [
            "e\n"
          ]
        }
      ]
    },
    {
      "cell_type": "code",
      "source": [
        "#print dari indeks 0-16\n",
        "print(kalimat[0:16])"
      ],
      "metadata": {
        "colab": {
          "base_uri": "https://localhost:8080/"
        },
        "id": "bI1nyNoAzDt7",
        "outputId": "33c02afe-5f9d-479b-94b6-b703f56cde42"
      },
      "execution_count": null,
      "outputs": [
        {
          "output_type": "stream",
          "name": "stdout",
          "text": [
            "Studi Independen\n"
          ]
        }
      ]
    },
    {
      "cell_type": "code",
      "source": [
        "#print dari indeks 17-29\n",
        "print(kalimat[17:29])"
      ],
      "metadata": {
        "colab": {
          "base_uri": "https://localhost:8080/"
        },
        "id": "IusVqAs0zlt1",
        "outputId": "6ba08d30-f1ae-4f9c-fb88-cfcaa0f394af"
      },
      "execution_count": null,
      "outputs": [
        {
          "output_type": "stream",
          "name": "stdout",
          "text": [
            "My Edu Solve\n"
          ]
        }
      ]
    },
    {
      "cell_type": "code",
      "source": [
        "#Menulis kata string dalam menjadi baris menggunakan (\"\"\"\")\n",
        "Alamat = \"\"\" Jl. Pahlawan no.9, \n",
        "Kel. Mugas Sari, Kec. Semarang Selatan,\n",
        "Kota Semarang, Jawa Tengah, 50249 \"\"\"\n",
        "print(Alamat)\n",
        "type(Alamat)"
      ],
      "metadata": {
        "colab": {
          "base_uri": "https://localhost:8080/"
        },
        "id": "kdwmoayb0o2m",
        "outputId": "3a9dcb17-6dbe-4bc5-c96e-3960a39949ea"
      },
      "execution_count": null,
      "outputs": [
        {
          "output_type": "stream",
          "name": "stdout",
          "text": [
            " Jl. Pahlawan no.9, \n",
            "Kel. Mugas Sari, Kec. Semarang Selatan,\n",
            "Kota Semarang, Jawa Tengah, 50249 \n"
          ]
        },
        {
          "output_type": "execute_result",
          "data": {
            "text/plain": [
              "str"
            ]
          },
          "metadata": {},
          "execution_count": 73
        }
      ]
    },
    {
      "cell_type": "code",
      "source": [
        "#Menulis kata string dalam menjadi baris menggunakan (\\n)\n",
        "Alamat = \"Jl. Pahlawan no.9,\\nKel.Mugas Sari, Kec. Semarang Selatan,\\nKota Semarang, Jawa Tengah, 50249\"\n",
        "print(Alamat)\n",
        "type(Alamat)"
      ],
      "metadata": {
        "colab": {
          "base_uri": "https://localhost:8080/"
        },
        "id": "9v92qTga2u5f",
        "outputId": "8a4f6584-4270-41e7-a630-42347e4deb4d"
      },
      "execution_count": null,
      "outputs": [
        {
          "output_type": "stream",
          "name": "stdout",
          "text": [
            "Jl. Pahlawan no.9,\n",
            "Kel.Mugas Sari, Kec. Semarang Selatan,\n",
            "Kota Semarang, Jawa Tengah, 50249\n"
          ]
        },
        {
          "output_type": "execute_result",
          "data": {
            "text/plain": [
              "str"
            ]
          },
          "metadata": {},
          "execution_count": 79
        }
      ]
    },
    {
      "cell_type": "code",
      "source": [
        "#Penjumlahan String\n",
        "#Merupakan penggabungan (concat)\n",
        "#Penjumlahan harus menggunakan string dengan string"
      ],
      "metadata": {
        "id": "u6mqKidf4DuM"
      },
      "execution_count": null,
      "outputs": []
    },
    {
      "cell_type": "code",
      "source": [
        "\"hori\" + \"zontal\""
      ],
      "metadata": {
        "colab": {
          "base_uri": "https://localhost:8080/",
          "height": 35
        },
        "id": "JoH40GVo4YFE",
        "outputId": "3b81a72a-4664-4b7f-8bba-4e7c54c3236b"
      },
      "execution_count": null,
      "outputs": [
        {
          "output_type": "execute_result",
          "data": {
            "text/plain": [
              "'horizontal'"
            ],
            "application/vnd.google.colaboratory.intrinsic+json": {
              "type": "string"
            }
          },
          "metadata": {},
          "execution_count": 84
        }
      ]
    },
    {
      "cell_type": "code",
      "source": [
        "'Heksa' + 'desimal'"
      ],
      "metadata": {
        "colab": {
          "base_uri": "https://localhost:8080/",
          "height": 35
        },
        "id": "BdSzHgQO4jEf",
        "outputId": "32f95f5f-c672-4465-d89b-49a43c9f9917"
      },
      "execution_count": null,
      "outputs": [
        {
          "output_type": "execute_result",
          "data": {
            "text/plain": [
              "'Heksadesimal'"
            ],
            "application/vnd.google.colaboratory.intrinsic+json": {
              "type": "string"
            }
          },
          "metadata": {},
          "execution_count": 86
        }
      ]
    },
    {
      "cell_type": "code",
      "source": [
        "\"20\" + \"22\""
      ],
      "metadata": {
        "colab": {
          "base_uri": "https://localhost:8080/",
          "height": 35
        },
        "id": "S0l4wK1f4rge",
        "outputId": "9345d387-cf47-44c2-91c2-a7f95abd62e2"
      },
      "execution_count": null,
      "outputs": [
        {
          "output_type": "execute_result",
          "data": {
            "text/plain": [
              "'2022'"
            ],
            "application/vnd.google.colaboratory.intrinsic+json": {
              "type": "string"
            }
          },
          "metadata": {},
          "execution_count": 87
        }
      ]
    },
    {
      "cell_type": "markdown",
      "source": [
        "Contoh perbedaan penjumlahan data numerik dan data string"
      ],
      "metadata": {
        "id": "2TTCfZEYz8AM"
      }
    },
    {
      "cell_type": "code",
      "source": [
        "#Penjumlahan data numerik\n",
        "print(2+1)"
      ],
      "metadata": {
        "colab": {
          "base_uri": "https://localhost:8080/"
        },
        "id": "EVGqGYzo0BgL",
        "outputId": "d42a54db-5491-46bc-942d-2a8fba52fa96"
      },
      "execution_count": null,
      "outputs": [
        {
          "output_type": "stream",
          "name": "stdout",
          "text": [
            "3\n"
          ]
        }
      ]
    },
    {
      "cell_type": "code",
      "source": [
        "#Penjumalahan data string\n",
        "print(\"2\"+\"1\")"
      ],
      "metadata": {
        "colab": {
          "base_uri": "https://localhost:8080/"
        },
        "id": "leGT8RWT0MPV",
        "outputId": "15bd4281-a37c-420c-901b-cd2f7b837346"
      },
      "execution_count": null,
      "outputs": [
        {
          "output_type": "stream",
          "name": "stdout",
          "text": [
            "21\n"
          ]
        }
      ]
    },
    {
      "cell_type": "code",
      "source": [
        "#Perkalian String \n",
        "#Operasi perkalian harus menggunakan bilangan bulat\n",
        "#Menampilkan teks sebanyak jumlah pengali"
      ],
      "metadata": {
        "id": "-3cIKLP63Z6P"
      },
      "execution_count": null,
      "outputs": []
    },
    {
      "cell_type": "code",
      "source": [
        "'kura'*2"
      ],
      "metadata": {
        "colab": {
          "base_uri": "https://localhost:8080/",
          "height": 35
        },
        "id": "2wTCtMgV3lel",
        "outputId": "9796334b-eecd-46c2-9c5c-8e2ac5bbefa3"
      },
      "execution_count": null,
      "outputs": [
        {
          "output_type": "execute_result",
          "data": {
            "text/plain": [
              "'kurakura'"
            ],
            "application/vnd.google.colaboratory.intrinsic+json": {
              "type": "string"
            }
          },
          "metadata": {},
          "execution_count": 82
        }
      ]
    },
    {
      "cell_type": "code",
      "source": [
        "'dia'*5"
      ],
      "metadata": {
        "colab": {
          "base_uri": "https://localhost:8080/",
          "height": 35
        },
        "id": "pQCzwrvt3yBT",
        "outputId": "2bae205a-0fc9-4d93-b8e2-83f1a143ca33"
      },
      "execution_count": null,
      "outputs": [
        {
          "output_type": "execute_result",
          "data": {
            "text/plain": [
              "'diadiadiadiadia'"
            ],
            "application/vnd.google.colaboratory.intrinsic+json": {
              "type": "string"
            }
          },
          "metadata": {},
          "execution_count": 83
        }
      ]
    },
    {
      "cell_type": "markdown",
      "source": [
        "**Boolean**\n",
        "\n",
        "\n",
        "*   #Hanya menyimpan dua nilai \"True\" dan \"False\"\n",
        "Output berupa boolean\n",
        "*   Boolean berfungsi mengontol laju dan alur program yang kita bangun\n",
        "*   Output berupa boolean (True/False)\n",
        "\n",
        "\n",
        "\n"
      ],
      "metadata": {
        "id": "py3zMsAo473W"
      }
    },
    {
      "cell_type": "code",
      "source": [
        "#Contoh\n",
        "# 3 > 4 dibaca 3 lebih besar dari 3 maka pernyataan tersebut salah/False\n",
        "3 > 4"
      ],
      "metadata": {
        "colab": {
          "base_uri": "https://localhost:8080/"
        },
        "id": "QZFZTtu-54IN",
        "outputId": "68bc5316-f228-4bf1-b04e-6c5b5e95dc52"
      },
      "execution_count": null,
      "outputs": [
        {
          "output_type": "execute_result",
          "data": {
            "text/plain": [
              "False"
            ]
          },
          "metadata": {},
          "execution_count": 88
        }
      ]
    },
    {
      "cell_type": "code",
      "source": [
        "#Contoh\n",
        "# 8 > 2 dibaca 8 lebih besar dari 2 maka pernyataan tersebut benar/True\n",
        "8 > 2"
      ],
      "metadata": {
        "colab": {
          "base_uri": "https://localhost:8080/"
        },
        "id": "-WfjlciL6exL",
        "outputId": "ee57799e-75cc-475d-e991-d8047be8ecf6"
      },
      "execution_count": null,
      "outputs": [
        {
          "output_type": "execute_result",
          "data": {
            "text/plain": [
              "True"
            ]
          },
          "metadata": {},
          "execution_count": 90
        }
      ]
    },
    {
      "cell_type": "code",
      "source": [
        "#Contoh\n",
        "# 3 < 4 dibaca 3 lebih kecil dari 4 maka pernyataan tersebut benar/True\n",
        "3 < 4"
      ],
      "metadata": {
        "colab": {
          "base_uri": "https://localhost:8080/"
        },
        "id": "q99z0lom6qm7",
        "outputId": "fb7bff4c-8bb8-4240-88db-b0437be8f1f1"
      },
      "execution_count": null,
      "outputs": [
        {
          "output_type": "execute_result",
          "data": {
            "text/plain": [
              "True"
            ]
          },
          "metadata": {},
          "execution_count": 91
        }
      ]
    },
    {
      "cell_type": "code",
      "source": [
        "#Contoh\n",
        "# 8 < 2 dibaca 8 lebih kecil dari 2 maka pernyataan tersebut salah/False\n",
        "8 < 2"
      ],
      "metadata": {
        "colab": {
          "base_uri": "https://localhost:8080/"
        },
        "id": "kEbDzsto61B0",
        "outputId": "95b4cfb0-0667-4215-a062-cb0018d157c7"
      },
      "execution_count": null,
      "outputs": [
        {
          "output_type": "execute_result",
          "data": {
            "text/plain": [
              "False"
            ]
          },
          "metadata": {},
          "execution_count": 92
        }
      ]
    },
    {
      "cell_type": "code",
      "source": [
        "#Contoh\n",
        "# 10 <= 10 dibaca 10 kurang dari sama dengan 10 maka pernyataan tersebut benar/True\n",
        "10 <= 10"
      ],
      "metadata": {
        "colab": {
          "base_uri": "https://localhost:8080/"
        },
        "id": "LUYzLHl68D8U",
        "outputId": "1335dc5b-40b4-428b-d530-4acbd3b416fe"
      },
      "execution_count": null,
      "outputs": [
        {
          "output_type": "execute_result",
          "data": {
            "text/plain": [
              "True"
            ]
          },
          "metadata": {},
          "execution_count": 106
        }
      ]
    },
    {
      "cell_type": "markdown",
      "source": [
        "Catatan :\n",
        "*   Lambang operator pembanding : ==\n",
        "*   Lambang opertaro : = berfungsi untuk memasukan/input nilai\n",
        "*   Operator pemabandingan == tidak sama dengan =\n",
        "\n"
      ],
      "metadata": {
        "id": "UenPXWh2D5ve"
      }
    },
    {
      "cell_type": "markdown",
      "source": [
        ""
      ],
      "metadata": {
        "id": "0eV33dTJEPIz"
      }
    },
    {
      "cell_type": "code",
      "source": [
        "3 == 3"
      ],
      "metadata": {
        "colab": {
          "base_uri": "https://localhost:8080/"
        },
        "id": "pidd4lzZ7rdJ",
        "outputId": "a0081061-f9da-41be-f6c8-78dcdfafe368"
      },
      "execution_count": null,
      "outputs": [
        {
          "output_type": "execute_result",
          "data": {
            "text/plain": [
              "True"
            ]
          },
          "metadata": {},
          "execution_count": 97
        }
      ]
    },
    {
      "cell_type": "code",
      "source": [
        "5 == 7"
      ],
      "metadata": {
        "colab": {
          "base_uri": "https://localhost:8080/"
        },
        "id": "_t0zaq_V7_Db",
        "outputId": "b1b1e197-8378-40af-b514-e250f488eb97"
      },
      "execution_count": null,
      "outputs": [
        {
          "output_type": "execute_result",
          "data": {
            "text/plain": [
              "False"
            ]
          },
          "metadata": {},
          "execution_count": 104
        }
      ]
    },
    {
      "cell_type": "code",
      "source": [
        "9 == 3*3"
      ],
      "metadata": {
        "colab": {
          "base_uri": "https://localhost:8080/"
        },
        "id": "L8ti0vF97wEV",
        "outputId": "9f18721a-1dcb-4c89-f71a-2c6953c5dc0a"
      },
      "execution_count": null,
      "outputs": [
        {
          "output_type": "execute_result",
          "data": {
            "text/plain": [
              "True"
            ]
          },
          "metadata": {},
          "execution_count": 103
        }
      ]
    }
  ]
}